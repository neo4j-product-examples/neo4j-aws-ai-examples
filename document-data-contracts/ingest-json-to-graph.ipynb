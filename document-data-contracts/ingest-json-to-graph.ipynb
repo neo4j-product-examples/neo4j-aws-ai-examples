{
 "cells": [
  {
   "cell_type": "markdown",
   "id": "090b1a37-0b18-4e8e-bfdc-6456e0cd8f0c",
   "metadata": {},
   "source": [
    "# Ingest"
   ]
  },
  {
   "cell_type": "markdown",
   "id": "67244b67-3d2c-4696-8b18-691403ced41c",
   "metadata": {},
   "source": [
    "## Setup"
   ]
  },
  {
   "cell_type": "code",
   "execution_count": 2,
   "id": "7898fc5a-eae6-48ab-b0cf-a1c702323c3c",
   "metadata": {},
   "outputs": [],
   "source": [
    "# Load Credentials\n",
    "from neo4j import GraphDatabase\n",
    "from dotenv import load_dotenv\n",
    "import os\n",
    "\n",
    "load_dotenv('cred.env', override=True)\n",
    "\n",
    "#AWS\n",
    "ACCESS_KEY = os.getenv('ACCESS_KEY')\n",
    "SECRET_KEY = os.getenv('SECRET_KEY')\n",
    "\n",
    "# Neo4j\n",
    "NEO4J_URI = os.getenv('NEO4J_URI')\n",
    "NEO4J_USERNAME = os.getenv('NEO4J_USERNAME')\n",
    "NEO4J_PASSWORD = os.getenv('NEO4J_PASSWORD')\n",
    "\n",
    "driver = GraphDatabase.driver(NEO4J_URI, auth=(NEO4J_USERNAME, NEO4J_PASSWORD)) "
   ]
  },
  {
   "cell_type": "markdown",
   "id": "e40329d9-ad5d-48e9-9269-fde924577a46",
   "metadata": {},
   "source": [
    "## Create Indexes"
   ]
  },
  {
   "cell_type": "code",
   "execution_count": 3,
   "id": "36f62021-e01a-4c59-a35b-b396d7dd7634",
   "metadata": {},
   "outputs": [
    {
     "data": {
      "text/plain": [
       "EagerResult(records=[], summary=<neo4j._work.summary.ResultSummary object at 0x7f45867bff50>, keys=[])"
      ]
     },
     "execution_count": 3,
     "metadata": {},
     "output_type": "execute_result"
    }
   ],
   "source": [
    "# Unique Ids\n",
    "driver.execute_query('CREATE CONSTRAINT unique_agreement_id IF NOT EXISTS FOR (n:Agreement) REQUIRE (n.contract_id) IS UNIQUE')\n",
    "driver.execute_query('CREATE CONSTRAINT unique_country_id IF NOT EXISTS FOR (n:Country) REQUIRE (n.name) IS UNIQUE')\n",
    "driver.execute_query('CREATE CONSTRAINT unique_organization_id IF NOT EXISTS FOR (n:Organization) REQUIRE (n.name) IS UNIQUE')\n",
    "#driver.execute_query('CREATE CONSTRAINT unique_contract_clause_id IF NOT EXISTS FOR (n:ContractClause) REQUIRE (n.type) IS UNIQUE')\n",
    "driver.execute_query('CREATE CONSTRAINT unique_excerpt_id IF NOT EXISTS FOR (n:Excerpt) REQUIRE (n.text) IS UNIQUE')\n",
    "driver.execute_query('CREATE CONSTRAINT unique_clause_type_id IF NOT EXISTS FOR (n:ClauseType) REQUIRE (n.clause_type) IS UNIQUE')"
   ]
  },
  {
   "cell_type": "markdown",
   "id": "f9eeef53-3157-48e2-8858-fcccf4ebf166",
   "metadata": {},
   "source": [
    "## Load Graph"
   ]
  },
  {
   "cell_type": "code",
   "execution_count": 4,
   "id": "58a062e1-fddc-4995-aece-cbbe6c8cf4af",
   "metadata": {},
   "outputs": [],
   "source": [
    "CREATE_GRAPH_STATEMENT = \"\"\"\n",
    "WITH $data AS data\n",
    "WITH data.agreement as a\n",
    "\n",
    "// todo proper global id for the agreement, perhaps from filename\n",
    "MERGE (agreement:Agreement {contract_id: a.contract_id})\n",
    "ON CREATE SET \n",
    "  agreement.name = a.agreement_name,\n",
    "  agreement.effective_date = a.effective_date,\n",
    "  agreement.expiration_date = a.expiration_date,\n",
    "  agreement.agreement_type = a.agreement_type,\n",
    "  agreement.renewal_term = a.renewal_term,\n",
    "  agreement.most_favored_country = a.governing_law.most_favored_country\n",
    "  //agreement.Notice_period_to_Terminate_Renewal = a.Notice_period_to_Terminate_Renewal\n",
    "  \n",
    "\n",
    "MERGE (gl_country:Country {name: a.governing_law.country})\n",
    "MERGE (agreement)-[gbl:GOVERNED_BY_LAW]->(gl_country)\n",
    "SET gbl.state = a.governing_law.state\n",
    "\n",
    "\n",
    "FOREACH (party IN a.parties |\n",
    "  // todo proper global id for the party\n",
    "  MERGE (p:Organization {name: party.name})\n",
    "  MERGE (p)-[ipt:IS_PARTY_TO]->(agreement)\n",
    "  SET ipt.role = party.role\n",
    "  MERGE (country_of_incorporation:Country {name: party.incorporation_country})\n",
    "  MERGE (p)-[incorporated:INCORPORATED_IN]->(country_of_incorporation)\n",
    "  SET incorporated.state = party.incorporation_state\n",
    ")\n",
    "\n",
    "WITH a, agreement, [clause IN a.clauses WHERE clause.exists = true] AS valid_clauses\n",
    "FOREACH (clause IN valid_clauses |\n",
    "  CREATE (cl:ContractClause {type: clause.clause_type})\n",
    "  MERGE (agreement)-[clt:HAS_CLAUSE]->(cl)\n",
    "  SET clt.type = clause.clause_type\n",
    "  // ON CREATE SET c.excerpts = clause.excerpts\n",
    "  FOREACH (excerpt IN clause.excerpts |\n",
    "    MERGE (cl)-[:HAS_EXCERPT]->(e:Excerpt {text: excerpt})\n",
    "  )\n",
    "  //link clauses to a Clause Type label\n",
    "  MERGE (clType:ClauseType{name: clause.clause_type})\n",
    "  MERGE (cl)-[:HAS_TYPE]->(clType)\n",
    ")\"\"\""
   ]
  },
  {
   "cell_type": "code",
   "execution_count": 7,
   "id": "0f639ac0-0511-42c8-8ced-5fe35d4966d9",
   "metadata": {},
   "outputs": [],
   "source": [
    "import json\n",
    "\n",
    "json_contracts = [filename for filename in os.listdir(\"./output/\") if filename.endswith('.json')]\n",
    "contract_id = 1\n",
    "for json_contract in json_contracts:\n",
    "  with open(\"./output/\" + json_contract,'r') as file:\n",
    "    json_string = file.read()\n",
    "    json_data = json.loads(json_string)\n",
    "    agreement = json_data['agreement']\n",
    "    agreement['contract_id'] = contract_id\n",
    "    driver.execute_query(CREATE_GRAPH_STATEMENT,  data=json_data)\n",
    "    contract_id+=1"
   ]
  },
  {
   "cell_type": "markdown",
   "id": "29a42568-0b1f-4d98-abd3-4867c6a18650",
   "metadata": {},
   "source": [
    "## Create FullText Indexes"
   ]
  },
  {
   "cell_type": "code",
   "execution_count": 8,
   "id": "f0832a4a-c3e0-4253-b293-ef799b19bc92",
   "metadata": {},
   "outputs": [
    {
     "data": {
      "text/plain": [
       "EagerResult(records=[], summary=<neo4j._work.summary.ResultSummary object at 0x7f45c81c0750>, keys=[])"
      ]
     },
     "execution_count": 8,
     "metadata": {},
     "output_type": "execute_result"
    }
   ],
   "source": [
    "driver.execute_query(\"CREATE FULLTEXT INDEX excerptTextIndex IF NOT EXISTS FOR (e:Excerpt) ON EACH [e.text]\")\n",
    "driver.execute_query(\"CREATE FULLTEXT INDEX agreementTypeTextIndex IF NOT EXISTS FOR (a:Agreement) ON EACH [a.agreement_type]\")\n",
    "driver.execute_query(\"CREATE FULLTEXT INDEX clauseTypeNameTextIndex IF NOT EXISTS FOR (ct:ClauseType) ON EACH [ct.name]\")\n",
    "driver.execute_query(\"CREATE FULLTEXT INDEX contractClauseTypeTextIndex IF NOT EXISTS FOR (c:ContractClause) ON EACH [c.type]\")\n",
    "driver.execute_query(\"CREATE FULLTEXT INDEX organizationNameTextIndex IF NOT EXISTS FOR (o:Organization) ON EACH [o.name]\")\n",
    "driver.execute_query(\"CREATE INDEX agreementContractId IF NOT EXISTS FOR (a:Agreement) ON (a.contract_id) \")"
   ]
  },
  {
   "cell_type": "markdown",
   "id": "313925e7-0683-4fed-a2b8-ba63b3c9423a",
   "metadata": {},
   "source": [
    "## Generate Text Embeddings & Create Vector Index"
   ]
  },
  {
   "cell_type": "code",
   "execution_count": 14,
   "id": "e49de6d9-6cb7-4788-9f7d-b543fad24688",
   "metadata": {},
   "outputs": [
    {
     "data": {
      "text/plain": [
       "EagerResult(records=[], summary=<neo4j._work.summary.ResultSummary object at 0x7f458573cf10>, keys=[])"
      ]
     },
     "execution_count": 14,
     "metadata": {},
     "output_type": "execute_result"
    }
   ],
   "source": [
    "driver.execute_query(\"\"\"\n",
    "MATCH (e:Excerpt) \n",
    "WHERE e.text IS NOT NULL\n",
    "WITH e, genai.vector.encode( e.text, 'Bedrock',\n",
    "    {accessKeyId:$accessKeyId, secretAccessKey:$secretAccessKey}\n",
    ") AS vector\n",
    "CALL db.create.setNodeVectorProperty(e, \"embedding\", vector)\n",
    "\"\"\", parameters_={\"accessKeyId\":ACCESS_KEY, \"secretAccessKey\": SECRET_KEY})"
   ]
  },
  {
   "cell_type": "code",
   "execution_count": 17,
   "id": "c9b58094-6666-4c2b-bd16-1a8b8f673448",
   "metadata": {},
   "outputs": [
    {
     "data": {
      "text/plain": [
       "EagerResult(records=[], summary=<neo4j._work.summary.ResultSummary object at 0x7f4585898510>, keys=[])"
      ]
     },
     "execution_count": 17,
     "metadata": {},
     "output_type": "execute_result"
    }
   ],
   "source": [
    "# Create vector index\n",
    "embedding_dimension = 1536 #default\n",
    "\n",
    "driver.execute_query('''\n",
    "CREATE VECTOR INDEX excerpt_embeddings IF NOT EXISTS FOR (n:Excerpt) ON (n.textEmbedding)\n",
    "OPTIONS {indexConfig: {\n",
    " `vector.dimensions`: toInteger($dimension),\n",
    " `vector.similarity_function`: 'cosine'\n",
    "}}''', parameters_={'dimension': embedding_dimension})\n",
    "\n",
    "#wait for index to come online\n",
    "driver.execute_query('CALL db.awaitIndex(\"excerpt_embeddings\", 300)')"
   ]
  },
  {
   "cell_type": "code",
   "execution_count": null,
   "id": "67d04ab6-61a3-45b4-8d69-690acb739c4f",
   "metadata": {},
   "outputs": [],
   "source": []
  },
  {
   "cell_type": "code",
   "execution_count": null,
   "id": "7fb8bf17-1b67-407f-9221-242bf577c4e7",
   "metadata": {},
   "outputs": [],
   "source": []
  }
 ],
 "metadata": {
  "kernelspec": {
   "display_name": "Python 3 (ipykernel)",
   "language": "python",
   "name": "python3"
  },
  "language_info": {
   "codemirror_mode": {
    "name": "ipython",
    "version": 3
   },
   "file_extension": ".py",
   "mimetype": "text/x-python",
   "name": "python",
   "nbconvert_exporter": "python",
   "pygments_lexer": "ipython3",
   "version": "3.11.10"
  }
 },
 "nbformat": 4,
 "nbformat_minor": 5
}
