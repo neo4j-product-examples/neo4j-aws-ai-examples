{
 "cells": [
  {
   "cell_type": "markdown",
   "id": "a1113259-492b-4650-90d3-fde87dce4e40",
   "metadata": {},
   "source": [
    "# Extract Contract Information"
   ]
  },
  {
   "cell_type": "markdown",
   "id": "3c82ae68-010f-48e0-a349-950bd1aa0a1a",
   "metadata": {},
   "source": [
    "## Prompts"
   ]
  },
  {
   "cell_type": "code",
   "execution_count": 1,
   "id": "93ea5ee7-3e78-47b3-9630-108f571ffe8f",
   "metadata": {},
   "outputs": [],
   "source": [
    "system_prompt = \"\"\"\n",
    "You are a seasoned legal expert specializing in the meticulous review and analysis of commercial contracts. \n",
    "Your expertise lies in identifying critical elements within legal documents, assessing compliance with legal standards, \n",
    "and ensuring that contracts serve the best interests of the parties involved. \n",
    "Your approach is thorough, detail-oriented, and guided by a deep understanding of legal principles and commercial practices.\n",
    "You will be presented with contracts and be asked questions by users who usually need their output in JSON format.\n",
    "\"\"\""
   ]
  },
  {
   "cell_type": "code",
   "execution_count": 2,
   "id": "1be4a05f-1d0e-4306-b6da-d64dfb5e6916",
   "metadata": {},
   "outputs": [],
   "source": [
    "extraction_prompt = \"\"\"\n",
    "Generate a valid JSON document. Do not include anything else other than the JSON document\n",
    "Using the Answers to the following questions and The schema of the resulting JSON file ( which is specified further down)\n",
    "In your answers, Use information exclusively on this contract. \n",
    "\n",
    "1) What type of contract is this? \n",
    "2) Who are the parties and their roles? Where are they incorporated? Name state and country (use ISO 3166 Country name)\n",
    "3) What is the Agreement Date? (if absolute date is mentioned use yyyy-mm-dd)\n",
    "4) What is the Effective date? (if absolute date is mentioned use yyyy-mm-dd)\n",
    "5) What is the expiration date? (if absolute date is mentioned use yyyy-mm-dd)\n",
    "6) What is the Renewal Term ? \n",
    "7) What is the Notice Period To Terminate Renewal? \n",
    "8) What is the governing law ? \n",
    "Name the state and country (use ISO 3166 Country name)\n",
    "9) If multiple countries are in the governing law, what is the most favoured country? if there is only one country just repeat the same information for governing law \n",
    "\n",
    "10) For each of the contract clause types, extract the following: \n",
    "a) A Yes/No that indicates if you think the clause is found in this contract \n",
    "b) A list of full (long) excerpts, directly taken from the contract that give you reason to believe that this this clause type exists. \n",
    " \n",
    "\n",
    "The only Contract Clause types are: Competitive Restriction Exception, Non-Compete, Exclusivity, No-Solicit Of Customers,\n",
    "No-Solicit Of Employees, Non-Disparagement, Termination For Convenience, Rofr/Rofo/Rofn, Change Of Control, \n",
    "Anti-Assignment, Revenue/Profit Sharing, Price Restrictions, Minimum Commitment,Volume Restriction, \n",
    "IP Ownership Assignment, Joint IP Ownership, License grant, Non-Transferable License, \n",
    "Affiliate License-Licensor, Affiliate License-Licensee,Unlimited/All-You-Can-Eat-License,Irrevocable Or Perpetual License, \n",
    "Source Code Escrow, Post-Termination Services, Audit Rights, Uncapped Liability, Cap On Liability, Liquidated Damages, \n",
    "Warranty Duration, Insurance, Covenant Not To Sue, Third Party Beneficiary.\n",
    "\n",
    "Finally, Using the answers to the questions above, provide your final answer in a JSON document.\n",
    "Make sure the JSON document is VALID and adheres to the correct format. \n",
    " \n",
    "The JSON document has the following structure: \n",
    "\n",
    "{\n",
    "  \"agreement\": {\n",
    "    \"agreement_name\": \"string\",\n",
    "    \"agreement_type\": \"string\",\n",
    "    \"effective_date\": \"string\",\n",
    "    \"expiration_date\": \"string\",\n",
    "    \"renewal_term\": \"string\",\n",
    "    \"Notice_period_to_Terminate_Renewal\": \"string\",\n",
    "    \"parties\": [\n",
    "      {\n",
    "        \"role\": \"string\",\n",
    "        \"name\": \"string\",\n",
    "        \"incorporation_country\": \"string\",\n",
    "        \"incorporation_state\": \"string\"\n",
    "      }\n",
    "    ],\n",
    "    \"governing_law\": {\n",
    "      \"country\": \"string\",\n",
    "      \"state\": \"string\",\n",
    "      \"most_favored_country\": \"string\"\n",
    "    },\n",
    "    \"clauses\": [\n",
    "      {\n",
    "        \"clause_type\": \"string\",\n",
    "        \"exists\": \"boolean\",\n",
    "        \"excerpts\": [\"string\"]\n",
    "      }\n",
    "    ]\n",
    "  }\n",
    "}\n",
    "Ensure the JSON is valid and correctly formatted.\n",
    "\n",
    "\n",
    "\n",
    "\"\"\""
   ]
  },
  {
   "cell_type": "markdown",
   "id": "d696c886-0be8-481b-9352-68a7bbde28fc",
   "metadata": {},
   "source": [
    "## Test Example Extraction"
   ]
  },
  {
   "cell_type": "code",
   "execution_count": 3,
   "id": "6930e783-fe17-404a-8e87-bff62bc3f4a2",
   "metadata": {},
   "outputs": [],
   "source": [
    "import boto3, json\n",
    "\n",
    "session = boto3.Session()\n",
    "bedrock = session.client(service_name='bedrock-runtime')"
   ]
  },
  {
   "cell_type": "code",
   "execution_count": 4,
   "id": "4b0067dc-c217-4a5e-aba1-28bd5e39262f",
   "metadata": {},
   "outputs": [],
   "source": [
    "with open(\"./input/AtnInternational.pdf\", \"rb\") as doc_file:\n",
    "    doc_bytes = doc_file.read()\n",
    "\n",
    "doc_message = {\n",
    "    \"role\": \"user\",\n",
    "    \"content\": [\n",
    "        {\n",
    "            \"document\": {\n",
    "                \"name\": \"AtnInternational_pdf\",\n",
    "                \"format\": \"pdf\",\n",
    "                \"source\": {\n",
    "                    \"bytes\": doc_bytes #Look Ma, no base64 encoding!\n",
    "                }\n",
    "            }\n",
    "        },\n",
    "        { \"text\": extraction_prompt }\n",
    "    ]\n",
    "}"
   ]
  },
  {
   "cell_type": "code",
   "execution_count": 5,
   "id": "e515a7f6-53ea-45ad-98ca-348cd3d234b5",
   "metadata": {},
   "outputs": [],
   "source": [
    "response = bedrock.converse(\n",
    "    modelId=\"us.anthropic.claude-3-5-sonnet-20241022-v2:0\",\n",
    "    system=[{ \"text\": system_prompt}],\n",
    "    messages=[doc_message],\n",
    "    inferenceConfig={\n",
    "        \"temperature\": 0\n",
    "    },\n",
    ")"
   ]
  },
  {
   "cell_type": "code",
   "execution_count": 6,
   "id": "05151507-9b4c-4d46-94be-a07f30d4b05f",
   "metadata": {},
   "outputs": [
    {
     "data": {
      "text/plain": [
       "dict_keys(['text'])"
      ]
     },
     "execution_count": 6,
     "metadata": {},
     "output_type": "execute_result"
    }
   ],
   "source": [
    "response['output']['message']['content'][0].keys()"
   ]
  },
  {
   "cell_type": "code",
   "execution_count": 7,
   "id": "260ba641-649f-4ad1-9fdd-236875e2f7fc",
   "metadata": {},
   "outputs": [
    {
     "name": "stdout",
     "output_type": "stream",
     "text": [
      "{\n",
      "  \"agreement\": {\n",
      "    \"agreement_name\": \"Network Build and Maintenance Agreement\",\n",
      "    \"agreement_type\": \"Services and Construction Agreement\",\n",
      "    \"effective_date\": \"2019-07-31\",\n",
      "    \"expiration_date\": \"Not Specified\",\n",
      "    \"renewal_term\": \"Not Specified\",\n",
      "    \"Notice_period_to_Terminate_Renewal\": \"Not Specified\",\n",
      "    \"parties\": [\n",
      "      {\n",
      "        \"role\": \"Vendor\",\n",
      "        \"name\": \"Commnet Wireless, LLC\",\n",
      "        \"incorporation_country\": \"United States\",\n",
      "        \"incorporation_state\": \"Delaware\"\n",
      "      },\n",
      "      {\n",
      "        \"role\": \"Customer\",\n",
      "        \"name\": \"AT&T Mobility LLC\",\n",
      "        \"incorporation_country\": \"United States\",\n",
      "        \"incorporation_state\": \"Delaware\"\n",
      "      }\n",
      "    ],\n",
      "    \"governing_law\": {\n",
      "      \"country\": \"United States\",\n",
      "      \"state\": \"New York\",\n",
      "      \"most_favored_country\": \"United States\"\n",
      "    },\n",
      "    \"clauses\": [\n",
      "      {\n",
      "        \"clause_type\": \"Change Of Control\",\n",
      "        \"exists\": true,\n",
      "        \"excerpts\": [\"If Vendor, prior to Location Acceptance at all Cell Sites and without the prior written consent of AT&T, consummates (i) any sale, assignment, transfer, license, lease or conveyance of any interest in any Cell Site or any of the Material or Services contemplated in this Agreement or (ii) any Change of Control of Vendor to a Restricted Entity or to any other Person who, in AT&T's reasonable discretion, lacks the financial or operational resources, skill or expertise to fulfill the obligations of Vendor contemplated by this Agreement, then AT&T may terminate this Agreement\"]\n",
      "      },\n",
      "      {\n",
      "        \"clause_type\": \"Anti-Assignment\",\n",
      "        \"exists\": true,\n",
      "        \"excerpts\": [\"Neither Party may assign, delegate, or otherwise transfer any of its duties or obligations under this Agreement, voluntarily or involuntarily, without the prior written consent of the other Party\"]\n",
      "      },\n",
      "      {\n",
      "        \"clause_type\": \"Audit Rights\",\n",
      "        \"exists\": true,\n",
      "        \"excerpts\": [\"AT&T and its auditors (including internal audit staff and external auditors) and governmental authorities shall have the right to review such records ('AT&T Audits') held and created by Vendor\"]\n",
      "      },\n",
      "      {\n",
      "        \"clause_type\": \"Insurance\",\n",
      "        \"exists\": true,\n",
      "        \"excerpts\": [\"With respect to Vendor's performance under this Agreement, and in addition to Vendor's obligation to indemnify, Vendor shall at its sole cost and expense maintain the insurance coverages and limits required by this Section\"]\n",
      "      },\n",
      "      {\n",
      "        \"clause_type\": \"Warranty Duration\",\n",
      "        \"exists\": true,\n",
      "        \"excerpts\": [\"The warranty period for all Material (excluding AT&T Provided Equipment) shall commence upon Delivery of such Material to Vendor from the OEM and shall continue for a period equal to the longer of (i) [***] or (ii) the applicable warranty period actually received by Vendor from the OEM\"]\n",
      "      },\n",
      "      {\n",
      "        \"clause_type\": \"Third Party Beneficiary\",\n",
      "        \"exists\": true,\n",
      "        \"excerpts\": [\"All AT&T Affiliates receiving Material or Services under this Agreement and the federal government of the United States shall be express third party beneficiaries under this Agreement\"]\n",
      "      },\n",
      "      {\n",
      "        \"clause_type\": \"IP Ownership Assignment\",\n",
      "        \"exists\": true,\n",
      "        \"excerpts\": [\"AT&T shall be the exclusive owner of all right, title, and interest in and to all Paid-For Development, including, without limitation, all Intellectual Property Rights therein and thereto\"]\n",
      "      },\n",
      "      {\n",
      "        \"clause_type\": \"License grant\",\n",
      "        \"exists\": true,\n",
      "        \"excerpts\": [\"Vendor hereby grants and promises to grant and have granted to AT&T and its Affiliates a royalty-free, nonexclusive, sublicensable, assignable, transferable, irrevocable, perpetual, world-wide license\"]\n",
      "      }\n",
      "    ]\n",
      "  }\n",
      "}\n"
     ]
    }
   ],
   "source": [
    "response_text = response['output']['message']['content'][0]['text']\n",
    "print(response_text)"
   ]
  },
  {
   "cell_type": "markdown",
   "id": "b69f9fab-f939-483a-8ef7-09d6bc39362e",
   "metadata": {},
   "source": [
    "## Extract All Contrac ts and Save to JSON"
   ]
  },
  {
   "cell_type": "code",
   "execution_count": 8,
   "id": "3be74a4f-46d0-4f73-bbb8-f6db9800c580",
   "metadata": {},
   "outputs": [],
   "source": [
    "# helper function\n",
    "def process_pdf(source_dir: str, file_name: str) -> str:\n",
    "    with open(os.path.join(source_dir, file_name), \"rb\") as doc_file:\n",
    "        doc_bytes = doc_file.read()\n",
    "\n",
    "    doc_message = {\n",
    "        \"role\": \"user\",\n",
    "        \"content\": [\n",
    "            {\n",
    "                \"document\": {\n",
    "                    \"name\": re.sub(r'[^a-zA-Z0-9]', '_', file_name),\n",
    "                    \"format\": \"pdf\",\n",
    "                    \"source\": {\n",
    "                        \"bytes\": doc_bytes #Look Ma, no base64 encoding!\n",
    "                    }\n",
    "                }\n",
    "            },\n",
    "            { \"text\": extraction_prompt }\n",
    "        ]\n",
    "    }\n",
    "    response = bedrock.converse(\n",
    "        modelId=\"us.anthropic.claude-3-5-sonnet-20241022-v2:0\",\n",
    "        system=[{ \"text\": system_prompt}],\n",
    "        messages=[doc_message],\n",
    "        inferenceConfig={\n",
    "            \"temperature\": 0\n",
    "        },\n",
    "    )\n",
    "    return response['output']['message']['content'][0]['text']\n",
    "\n",
    "def extract_json_from_string(input_string):\n",
    "    try:\n",
    "        # Parse the JSON string into a Python object (dictionary)\n",
    "        if input_string.startswith('```json'):\n",
    "            input_string = re.sub(r'^```json\\s*|\\s*```$', '', input_string, flags=re.DOTALL)\n",
    "        \n",
    "        json_object = json.loads(input_string)\n",
    "        return json_object\n",
    "    except json.JSONDecodeError as e:\n",
    "            print(f\"Error parsing JSON: {e}\")\n",
    "            return None\n",
    "    else:\n",
    "        print(\"No valid JSON block found.\")\n",
    "        return None\n",
    "\n",
    "def save_json_string_to_file(json_string, file_path):\n",
    "    # Open the file in write mode and save the JSON string\n",
    "    with open(file_path, 'w') as file:\n",
    "        file.write(json_string)\n",
    "    "
   ]
  },
  {
   "cell_type": "code",
   "execution_count": 10,
   "id": "5c78c95b-3588-42a4-8e98-53c57890e4b0",
   "metadata": {},
   "outputs": [],
   "source": [
    "# Create Directories if not already exist\n",
    "import os \n",
    "\n",
    "for d in ['./debug/', './output/']:\n",
    "    if not os.path.exists(d):\n",
    "            os.makedirs(d)"
   ]
  },
  {
   "cell_type": "code",
   "execution_count": 11,
   "id": "d9fe174f-a057-4c16-b952-aa7c37b50548",
   "metadata": {},
   "outputs": [
    {
     "name": "stderr",
     "output_type": "stream",
     "text": [
      "100%|██████████| 10/10 [03:38<00:00, 21.82s/it]\n"
     ]
    }
   ],
   "source": [
    "import os\n",
    "import re\n",
    "from tqdm import tqdm\n",
    "\n",
    "source_dir = './input/'\n",
    "file_names = [filename for filename in os.listdir(source_dir) if filename.endswith('.pdf')]\n",
    "\n",
    "for file_name in tqdm(file_names):\n",
    "    # Extract content from PDF using LLM\n",
    "    response = process_pdf(source_dir, file_name)\n",
    "    # Log the complete response to debug\n",
    "    save_json_string_to_file(response, './debug/ ' + 'complete_response_' + file_name + '.json')\n",
    "    # Try to load the response as valid JSON\n",
    "    try:\n",
    "        contract_json = extract_json_from_string(response)\n",
    "        # Store as valid JSON so it can be imported into a KG later\n",
    "        json_string = json.dumps(contract_json, indent=4)\n",
    "        save_json_string_to_file(json_string, './output/' + file_name + '.json')\n",
    "    except json.JSONDecodeError as e:\n",
    "        print(f\"Failed to decode JSON: {e}\")\n",
    "    "
   ]
  },
  {
   "cell_type": "code",
   "execution_count": null,
   "id": "9f6ffd1b-e232-4444-9845-83ada1643c2c",
   "metadata": {},
   "outputs": [],
   "source": []
  }
 ],
 "metadata": {
  "kernelspec": {
   "display_name": "Python 3 (ipykernel)",
   "language": "python",
   "name": "python3"
  },
  "language_info": {
   "codemirror_mode": {
    "name": "ipython",
    "version": 3
   },
   "file_extension": ".py",
   "mimetype": "text/x-python",
   "name": "python",
   "nbconvert_exporter": "python",
   "pygments_lexer": "ipython3",
   "version": "3.11.10"
  }
 },
 "nbformat": 4,
 "nbformat_minor": 5
}
